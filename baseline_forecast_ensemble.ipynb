{
 "cells": [
  {
   "cell_type": "code",
   "execution_count": 1,
   "metadata": {},
   "outputs": [],
   "source": [
    "import datetime\n",
    "import os\n",
    "import pandas as pd\n",
    "import numpy as np\n",
    "from sklearn.linear_model import Ridge,Lasso\n",
    "from sklearn.metrics import mean_absolute_percentage_error,mean_absolute_error"
   ]
  },
  {
   "cell_type": "code",
   "execution_count": 2,
   "metadata": {},
   "outputs": [],
   "source": [
    "work_path=r'D:\\university\\研究生\\tourism_forecasting_competition\\submit\\code and supplementary materials'##work_path must be adjusted before running the code.\n",
    "stack_path=r'D:\\university\\研究生\\tourism_forecasting_competition\\submit\\code and supplementary materials\\stacking_train' \n",
    "baseline_path=r'D:\\university\\研究生\\tourism_forecasting_competition\\submit\\code and supplementary materials\\baseline_forecast'\n",
    "os.chdir(work_path)"
   ]
  },
  {
   "cell_type": "code",
   "execution_count": 3,
   "metadata": {},
   "outputs": [],
   "source": [
    "country_name=[\"加拿大\",'智利','墨西哥','台湾','香港','日本','韩国','澳门','马尔代夫','柬埔寨','印尼','新加坡','新西兰','美国','泰国','土耳其','澳大利亚','夏威夷','奥地利','捷克']"
   ]
  },
  {
   "cell_type": "code",
   "execution_count": 7,
   "metadata": {},
   "outputs": [],
   "source": [
    "data=pd.read_excel('data.xlsx').iloc[:,1:]\n",
    "data.columns=country_name\n",
    "data.index=pd.date_range(start=\"1989-1\", end=\"2023-02\", freq=\"MS\")"
   ]
  },
  {
   "cell_type": "code",
   "execution_count": 58,
   "metadata": {},
   "outputs": [
    {
     "name": "stderr",
     "output_type": "stream",
     "text": [
      "g:\\anaconda3\\lib\\site-packages\\sklearn\\linear_model\\_coordinate_descent.py:647: ConvergenceWarning: Objective did not converge. You might want to increase the number of iterations, check the scale of the features or consider increasing regularisation. Duality gap: 2.888e+07, tolerance: 1.016e+07\n",
      "  model = cd_fast.enet_coordinate_descent(\n",
      "g:\\anaconda3\\lib\\site-packages\\sklearn\\linear_model\\_coordinate_descent.py:647: ConvergenceWarning: Objective did not converge. You might want to increase the number of iterations, check the scale of the features or consider increasing regularisation. Duality gap: 2.241e+06, tolerance: 2.204e+04\n",
      "  model = cd_fast.enet_coordinate_descent(\n",
      "g:\\anaconda3\\lib\\site-packages\\sklearn\\linear_model\\_coordinate_descent.py:647: ConvergenceWarning: Objective did not converge. You might want to increase the number of iterations, check the scale of the features or consider increasing regularisation. Duality gap: 5.007e+10, tolerance: 3.946e+10\n",
      "  model = cd_fast.enet_coordinate_descent(\n",
      "g:\\anaconda3\\lib\\site-packages\\sklearn\\linear_model\\_coordinate_descent.py:647: ConvergenceWarning: Objective did not converge. You might want to increase the number of iterations, check the scale of the features or consider increasing regularisation. Duality gap: 3.970e+09, tolerance: 4.990e+08\n",
      "  model = cd_fast.enet_coordinate_descent(\n",
      "g:\\anaconda3\\lib\\site-packages\\sklearn\\linear_model\\_coordinate_descent.py:647: ConvergenceWarning: Objective did not converge. You might want to increase the number of iterations, check the scale of the features or consider increasing regularisation. Duality gap: 4.090e+11, tolerance: 1.196e+10\n",
      "  model = cd_fast.enet_coordinate_descent(\n",
      "g:\\anaconda3\\lib\\site-packages\\sklearn\\linear_model\\_coordinate_descent.py:647: ConvergenceWarning: Objective did not converge. You might want to increase the number of iterations, check the scale of the features or consider increasing regularisation. Duality gap: 1.893e+06, tolerance: 1.442e+06\n",
      "  model = cd_fast.enet_coordinate_descent(\n",
      "g:\\anaconda3\\lib\\site-packages\\sklearn\\linear_model\\_coordinate_descent.py:647: ConvergenceWarning: Objective did not converge. You might want to increase the number of iterations, check the scale of the features or consider increasing regularisation. Duality gap: 9.491e+07, tolerance: 7.574e+07\n",
      "  model = cd_fast.enet_coordinate_descent(\n",
      "g:\\anaconda3\\lib\\site-packages\\sklearn\\linear_model\\_coordinate_descent.py:647: ConvergenceWarning: Objective did not converge. You might want to increase the number of iterations, check the scale of the features or consider increasing regularisation. Duality gap: 2.413e+08, tolerance: 2.132e+08\n",
      "  model = cd_fast.enet_coordinate_descent(\n",
      "g:\\anaconda3\\lib\\site-packages\\sklearn\\linear_model\\_coordinate_descent.py:647: ConvergenceWarning: Objective did not converge. You might want to increase the number of iterations, check the scale of the features or consider increasing regularisation. Duality gap: 2.606e+08, tolerance: 3.311e+06\n",
      "  model = cd_fast.enet_coordinate_descent(\n",
      "g:\\anaconda3\\lib\\site-packages\\sklearn\\linear_model\\_coordinate_descent.py:647: ConvergenceWarning: Objective did not converge. You might want to increase the number of iterations, check the scale of the features or consider increasing regularisation. Duality gap: 5.827e+08, tolerance: 1.527e+08\n",
      "  model = cd_fast.enet_coordinate_descent(\n",
      "g:\\anaconda3\\lib\\site-packages\\sklearn\\linear_model\\_coordinate_descent.py:647: ConvergenceWarning: Objective did not converge. You might want to increase the number of iterations, check the scale of the features or consider increasing regularisation. Duality gap: 7.320e+10, tolerance: 1.974e+09\n",
      "  model = cd_fast.enet_coordinate_descent(\n",
      "g:\\anaconda3\\lib\\site-packages\\sklearn\\linear_model\\_coordinate_descent.py:647: ConvergenceWarning: Objective did not converge. You might want to increase the number of iterations, check the scale of the features or consider increasing regularisation. Duality gap: 1.411e+08, tolerance: 1.880e+07\n",
      "  model = cd_fast.enet_coordinate_descent(\n",
      "g:\\anaconda3\\lib\\site-packages\\sklearn\\linear_model\\_coordinate_descent.py:647: ConvergenceWarning: Objective did not converge. You might want to increase the number of iterations, check the scale of the features or consider increasing regularisation. Duality gap: 2.714e+08, tolerance: 1.585e+07\n",
      "  model = cd_fast.enet_coordinate_descent(\n"
     ]
    }
   ],
   "source": [
    "###use Lasso as the meta model of stacking\n",
    "baseline_stacking_lasso=pd.DataFrame(index=pd.date_range(start=\"2023-01\", end=\"2024-12\", freq=\"MS\"))\n",
    "train_stacking_lasso=pd.DataFrame(index=pd.date_range(start=\"2018-01\", end=\"2019-12\", freq=\"MS\"))\n",
    "stacking_train=pd.DataFrame()\n",
    "stacking_test=pd.DataFrame()\n",
    "for i in range(20):\n",
    "    \n",
    "    os.chdir(stack_path)\n",
    "    for file in os.listdir(stack_path):\n",
    "        temp=pd.read_excel(file)\n",
    "        stacking_train[file[:-9]]=temp.iloc[:,i]\n",
    "    y_train=np.array(data.iloc[348:372,i]).reshape(-1,1) \n",
    "    trainer=Lasso(random_state=42,positive=True,fit_intercept=False)\n",
    "    trainer.fit(np.array(stacking_train),y_train)\n",
    "    train_prediction=trainer.predict(np.array(stacking_train))\n",
    "    train_stacking_lasso[country_name[i]]=train_prediction\n",
    "\n",
    "    os.chdir(baseline_path)\n",
    "    for file in os.listdir(baseline_path):\n",
    "        temp=pd.read_excel(file)\n",
    "        stacking_test[file[:-9]]=temp.iloc[:,i]\n",
    "    test_prediction=trainer.predict(np.array(stacking_test))\n",
    "    baseline_stacking_lasso[country_name[i]]=test_prediction\n"
   ]
  },
  {
   "cell_type": "code",
   "execution_count": 61,
   "metadata": {},
   "outputs": [],
   "source": [
    "###use Ridge as the meta model of stacking\n",
    "baseline_stacking_ridge=pd.DataFrame(index=pd.date_range(start=\"2023-01\", end=\"2024-12\", freq=\"MS\"))\n",
    "train_stacking_ridge=pd.DataFrame(index=pd.date_range(start=\"2018-01\", end=\"2019-12\", freq=\"MS\"))\n",
    "stacking_train=pd.DataFrame()\n",
    "stacking_test=pd.DataFrame()\n",
    "for i in range(20):\n",
    "    \n",
    "    os.chdir(stack_path)\n",
    "    for file in os.listdir(stack_path):\n",
    "        temp=pd.read_excel(file)\n",
    "        stacking_train[file[:-9]]=temp.iloc[:,i]\n",
    "    y_train=np.array(data.iloc[348:372,i]).reshape(-1,1) \n",
    "    trainer=Ridge(random_state=42,positive=True,fit_intercept=False)\n",
    "    trainer.fit(np.array(stacking_train),y_train)\n",
    "    train_prediction=trainer.predict(np.array(stacking_train))\n",
    "    train_stacking_ridge[country_name[i]]=train_prediction.reshape(-1,1)\n",
    "\n",
    "    os.chdir(baseline_path)\n",
    "    for file in os.listdir(baseline_path):\n",
    "        temp=pd.read_excel(file)\n",
    "        stacking_test[file[:-9]]=temp.iloc[:,i]\n",
    "    test_prediction=trainer.predict(np.array(stacking_test))\n",
    "    baseline_stacking_ridge[country_name[i]]=test_prediction"
   ]
  },
  {
   "cell_type": "code",
   "execution_count": 36,
   "metadata": {},
   "outputs": [],
   "source": [
    "### simple average\n",
    "baseline_average=pd.DataFrame(index=pd.date_range(start=\"2023-01\", end=\"2024-12\", freq=\"MS\"))\n",
    "train_average=pd.DataFrame(index=pd.date_range(start=\"2018-01\", end=\"2019-12\", freq=\"MS\"))\n",
    "stacking_train=pd.DataFrame()\n",
    "stacking_test=pd.DataFrame()\n",
    "drop_method=['holt','rwf','TDha','TDhe','etsstlA','etsstlB','etsstlC']\n",
    "for i in range(20):\n",
    "    os.chdir(stack_path)\n",
    "    for file in os.listdir(stack_path):\n",
    "        temp=pd.read_excel(file)\n",
    "        if file[:-9] not in drop_method:\n",
    "            stacking_train[file[:-9]]=temp.iloc[:,i]\n",
    "    train_prediction=stacking_train.mean(axis=1)\n",
    "    train_average[country_name[i]]=list(train_prediction)\n",
    "\n",
    "    os.chdir(baseline_path)\n",
    "    for file in os.listdir(baseline_path):\n",
    "        temp=pd.read_excel(file)\n",
    "        stacking_test[file[:-9]]=temp.iloc[:,i]\n",
    "    test_prediction=stacking_test.mean(axis=1)\n",
    "    baseline_average[country_name[i]]=list(test_prediction)"
   ]
  },
  {
   "cell_type": "code",
   "execution_count": 63,
   "metadata": {},
   "outputs": [
    {
     "data": {
      "text/plain": [
       "0.5922587075870022"
      ]
     },
     "execution_count": 63,
     "metadata": {},
     "output_type": "execute_result"
    }
   ],
   "source": [
    "(np.abs(train_stacking_ridge-data.loc[datetime.datetime(2018,1,1):datetime.datetime(2019,12,1)]).mean()/np.abs(data.loc[datetime.datetime(2017,12,1):datetime.datetime(2019,12,1)].diff()).mean()).mean()"
   ]
  },
  {
   "cell_type": "code",
   "execution_count": 64,
   "metadata": {},
   "outputs": [
    {
     "data": {
      "text/plain": [
       "0.10513961318326996"
      ]
     },
     "execution_count": 64,
     "metadata": {},
     "output_type": "execute_result"
    }
   ],
   "source": [
    "np.abs((train_stacking_ridge-data.loc[datetime.datetime(2018,1,1):datetime.datetime(2019,12,1)])/data.loc[datetime.datetime(2018,1,1):datetime.datetime(2019,12,1)]).mean().mean()"
   ]
  },
  {
   "cell_type": "code",
   "execution_count": 49,
   "metadata": {},
   "outputs": [
    {
     "name": "stdout",
     "output_type": "stream",
     "text": [
      "arima2018.xlsx\n",
      "arimastlA2018.xlsx\n",
      "arimastlB2018.xlsx\n",
      "arimastlC2018.xlsx\n",
      "ets2018.xlsx\n",
      "etsstlA2018.xlsx\n",
      "etsstlB2018.xlsx\n",
      "etsstlC2018.xlsx\n",
      "holt2018.xlsx\n",
      "hw2018.xlsx\n",
      "mint2018.xlsx\n",
      "nnetar2018.xlsx\n",
      "rwf2018.xlsx\n",
      "snaive2018.xlsx\n",
      "tbats2018.xlsx\n",
      "TDfa2018.xlsx\n",
      "TDfe2018.xlsx\n",
      "TDha2018.xlsx\n",
      "TDhe2018.xlsx\n",
      "wls2018.xlsx\n",
      "arima2018.xlsx\n",
      "arimastlA2018.xlsx\n",
      "arimastlB2018.xlsx\n",
      "arimastlC2018.xlsx\n",
      "ets2018.xlsx\n",
      "etsstlA2018.xlsx\n",
      "etsstlB2018.xlsx\n",
      "etsstlC2018.xlsx\n",
      "holt2018.xlsx\n",
      "hw2018.xlsx\n",
      "mint2018.xlsx\n",
      "nnetar2018.xlsx\n",
      "rwf2018.xlsx\n",
      "snaive2018.xlsx\n"
     ]
    },
    {
     "name": "stderr",
     "output_type": "stream",
     "text": [
      "C:\\Users\\rtz12\\AppData\\Local\\Temp\\ipykernel_15192\\1896440418.py:24: FutureWarning: The frame.append method is deprecated and will be removed from pandas in a future version. Use pandas.concat instead.\n",
      "  error=error.append(dic,ignore_index=True)\n"
     ]
    },
    {
     "name": "stdout",
     "output_type": "stream",
     "text": [
      "tbats2018.xlsx\n",
      "TDfa2018.xlsx\n",
      "TDfe2018.xlsx\n",
      "TDha2018.xlsx\n",
      "TDhe2018.xlsx\n",
      "wls2018.xlsx\n",
      "arima2018.xlsx\n",
      "arimastlA2018.xlsx\n",
      "arimastlB2018.xlsx\n",
      "arimastlC2018.xlsx\n",
      "ets2018.xlsx\n",
      "etsstlA2018.xlsx\n",
      "etsstlB2018.xlsx\n",
      "etsstlC2018.xlsx\n",
      "holt2018.xlsx\n",
      "hw2018.xlsx\n",
      "mint2018.xlsx\n",
      "nnetar2018.xlsx\n"
     ]
    },
    {
     "name": "stderr",
     "output_type": "stream",
     "text": [
      "C:\\Users\\rtz12\\AppData\\Local\\Temp\\ipykernel_15192\\1896440418.py:24: FutureWarning: The frame.append method is deprecated and will be removed from pandas in a future version. Use pandas.concat instead.\n",
      "  error=error.append(dic,ignore_index=True)\n"
     ]
    },
    {
     "name": "stdout",
     "output_type": "stream",
     "text": [
      "rwf2018.xlsx\n",
      "snaive2018.xlsx\n",
      "tbats2018.xlsx\n",
      "TDfa2018.xlsx\n",
      "TDfe2018.xlsx\n",
      "TDha2018.xlsx\n",
      "TDhe2018.xlsx\n",
      "wls2018.xlsx\n",
      "arima2018.xlsx\n",
      "arimastlA2018.xlsx\n",
      "arimastlB2018.xlsx\n",
      "arimastlC2018.xlsx\n",
      "ets2018.xlsx\n",
      "etsstlA2018.xlsx\n",
      "etsstlB2018.xlsx\n",
      "etsstlC2018.xlsx\n",
      "holt2018.xlsx\n"
     ]
    },
    {
     "name": "stderr",
     "output_type": "stream",
     "text": [
      "C:\\Users\\rtz12\\AppData\\Local\\Temp\\ipykernel_15192\\1896440418.py:24: FutureWarning: The frame.append method is deprecated and will be removed from pandas in a future version. Use pandas.concat instead.\n",
      "  error=error.append(dic,ignore_index=True)\n"
     ]
    },
    {
     "name": "stdout",
     "output_type": "stream",
     "text": [
      "hw2018.xlsx\n",
      "mint2018.xlsx\n",
      "nnetar2018.xlsx\n",
      "rwf2018.xlsx\n",
      "snaive2018.xlsx\n",
      "tbats2018.xlsx\n",
      "TDfa2018.xlsx\n",
      "TDfe2018.xlsx\n",
      "TDha2018.xlsx\n",
      "TDhe2018.xlsx\n",
      "wls2018.xlsx\n",
      "arima2018.xlsx\n",
      "arimastlA2018.xlsx\n",
      "arimastlB2018.xlsx\n",
      "arimastlC2018.xlsx\n"
     ]
    },
    {
     "name": "stderr",
     "output_type": "stream",
     "text": [
      "C:\\Users\\rtz12\\AppData\\Local\\Temp\\ipykernel_15192\\1896440418.py:24: FutureWarning: The frame.append method is deprecated and will be removed from pandas in a future version. Use pandas.concat instead.\n",
      "  error=error.append(dic,ignore_index=True)\n"
     ]
    },
    {
     "name": "stdout",
     "output_type": "stream",
     "text": [
      "ets2018.xlsx\n",
      "etsstlA2018.xlsx\n",
      "etsstlB2018.xlsx\n",
      "etsstlC2018.xlsx\n",
      "holt2018.xlsx\n",
      "hw2018.xlsx\n",
      "mint2018.xlsx\n",
      "nnetar2018.xlsx\n",
      "rwf2018.xlsx\n",
      "snaive2018.xlsx\n",
      "tbats2018.xlsx\n",
      "TDfa2018.xlsx\n",
      "TDfe2018.xlsx\n",
      "TDha2018.xlsx\n",
      "TDhe2018.xlsx\n",
      "wls2018.xlsx\n",
      "arima2018.xlsx\n",
      "arimastlA2018.xlsx\n",
      "arimastlB2018.xlsx\n",
      "arimastlC2018.xlsx\n",
      "ets2018.xlsx\n",
      "etsstlA2018.xlsx\n",
      "etsstlB2018.xlsx\n",
      "etsstlC2018.xlsx\n",
      "holt2018.xlsx\n",
      "hw2018.xlsx\n"
     ]
    },
    {
     "name": "stderr",
     "output_type": "stream",
     "text": [
      "C:\\Users\\rtz12\\AppData\\Local\\Temp\\ipykernel_15192\\1896440418.py:24: FutureWarning: The frame.append method is deprecated and will be removed from pandas in a future version. Use pandas.concat instead.\n",
      "  error=error.append(dic,ignore_index=True)\n"
     ]
    },
    {
     "name": "stdout",
     "output_type": "stream",
     "text": [
      "mint2018.xlsx\n",
      "nnetar2018.xlsx\n",
      "rwf2018.xlsx\n",
      "snaive2018.xlsx\n",
      "tbats2018.xlsx\n",
      "TDfa2018.xlsx\n",
      "TDfe2018.xlsx\n",
      "TDha2018.xlsx\n",
      "TDhe2018.xlsx\n",
      "wls2018.xlsx\n",
      "arima2018.xlsx\n",
      "arimastlA2018.xlsx\n",
      "arimastlB2018.xlsx\n",
      "arimastlC2018.xlsx\n",
      "ets2018.xlsx\n"
     ]
    },
    {
     "name": "stderr",
     "output_type": "stream",
     "text": [
      "C:\\Users\\rtz12\\AppData\\Local\\Temp\\ipykernel_15192\\1896440418.py:24: FutureWarning: The frame.append method is deprecated and will be removed from pandas in a future version. Use pandas.concat instead.\n",
      "  error=error.append(dic,ignore_index=True)\n"
     ]
    },
    {
     "name": "stdout",
     "output_type": "stream",
     "text": [
      "etsstlA2018.xlsx\n",
      "etsstlB2018.xlsx\n",
      "etsstlC2018.xlsx\n",
      "holt2018.xlsx\n",
      "hw2018.xlsx\n",
      "mint2018.xlsx\n",
      "nnetar2018.xlsx\n",
      "rwf2018.xlsx\n",
      "snaive2018.xlsx\n",
      "tbats2018.xlsx\n",
      "TDfa2018.xlsx\n",
      "TDfe2018.xlsx\n",
      "TDha2018.xlsx\n",
      "TDhe2018.xlsx\n",
      "wls2018.xlsx\n"
     ]
    },
    {
     "name": "stderr",
     "output_type": "stream",
     "text": [
      "C:\\Users\\rtz12\\AppData\\Local\\Temp\\ipykernel_15192\\1896440418.py:24: FutureWarning: The frame.append method is deprecated and will be removed from pandas in a future version. Use pandas.concat instead.\n",
      "  error=error.append(dic,ignore_index=True)\n"
     ]
    },
    {
     "name": "stdout",
     "output_type": "stream",
     "text": [
      "arima2018.xlsx\n",
      "arimastlA2018.xlsx\n",
      "arimastlB2018.xlsx\n",
      "arimastlC2018.xlsx\n",
      "ets2018.xlsx\n",
      "etsstlA2018.xlsx\n",
      "etsstlB2018.xlsx\n",
      "etsstlC2018.xlsx\n",
      "holt2018.xlsx\n",
      "hw2018.xlsx\n",
      "mint2018.xlsx\n",
      "nnetar2018.xlsx\n",
      "rwf2018.xlsx\n",
      "snaive2018.xlsx\n",
      "tbats2018.xlsx\n",
      "TDfa2018.xlsx\n",
      "TDfe2018.xlsx\n",
      "TDha2018.xlsx\n",
      "TDhe2018.xlsx\n",
      "wls2018.xlsx\n",
      "arima2018.xlsx\n",
      "arimastlA2018.xlsx\n",
      "arimastlB2018.xlsx\n",
      "arimastlC2018.xlsx\n",
      "ets2018.xlsx\n"
     ]
    },
    {
     "name": "stderr",
     "output_type": "stream",
     "text": [
      "C:\\Users\\rtz12\\AppData\\Local\\Temp\\ipykernel_15192\\1896440418.py:24: FutureWarning: The frame.append method is deprecated and will be removed from pandas in a future version. Use pandas.concat instead.\n",
      "  error=error.append(dic,ignore_index=True)\n"
     ]
    },
    {
     "name": "stdout",
     "output_type": "stream",
     "text": [
      "etsstlA2018.xlsx\n",
      "etsstlB2018.xlsx\n",
      "etsstlC2018.xlsx\n",
      "holt2018.xlsx\n",
      "hw2018.xlsx\n",
      "mint2018.xlsx\n",
      "nnetar2018.xlsx\n",
      "rwf2018.xlsx\n",
      "snaive2018.xlsx\n",
      "tbats2018.xlsx\n",
      "TDfa2018.xlsx\n",
      "TDfe2018.xlsx\n",
      "TDha2018.xlsx\n",
      "TDhe2018.xlsx\n",
      "wls2018.xlsx\n"
     ]
    },
    {
     "name": "stderr",
     "output_type": "stream",
     "text": [
      "C:\\Users\\rtz12\\AppData\\Local\\Temp\\ipykernel_15192\\1896440418.py:24: FutureWarning: The frame.append method is deprecated and will be removed from pandas in a future version. Use pandas.concat instead.\n",
      "  error=error.append(dic,ignore_index=True)\n"
     ]
    },
    {
     "name": "stdout",
     "output_type": "stream",
     "text": [
      "arima2018.xlsx\n",
      "arimastlA2018.xlsx\n",
      "arimastlB2018.xlsx\n",
      "arimastlC2018.xlsx\n",
      "ets2018.xlsx\n",
      "etsstlA2018.xlsx\n",
      "etsstlB2018.xlsx\n",
      "etsstlC2018.xlsx\n",
      "holt2018.xlsx\n",
      "hw2018.xlsx\n",
      "mint2018.xlsx\n",
      "nnetar2018.xlsx\n",
      "rwf2018.xlsx\n",
      "snaive2018.xlsx\n",
      "tbats2018.xlsx\n",
      "TDfa2018.xlsx\n",
      "TDfe2018.xlsx\n",
      "TDha2018.xlsx\n",
      "TDhe2018.xlsx\n",
      "wls2018.xlsx\n",
      "arima2018.xlsx\n",
      "arimastlA2018.xlsx\n",
      "arimastlB2018.xlsx\n",
      "arimastlC2018.xlsx\n",
      "ets2018.xlsx\n",
      "etsstlA2018.xlsx\n",
      "etsstlB2018.xlsx\n",
      "etsstlC2018.xlsx\n",
      "holt2018.xlsx\n",
      "hw2018.xlsx\n",
      "mint2018.xlsx\n",
      "nnetar2018.xlsx\n",
      "rwf2018.xlsx\n"
     ]
    },
    {
     "name": "stderr",
     "output_type": "stream",
     "text": [
      "C:\\Users\\rtz12\\AppData\\Local\\Temp\\ipykernel_15192\\1896440418.py:24: FutureWarning: The frame.append method is deprecated and will be removed from pandas in a future version. Use pandas.concat instead.\n",
      "  error=error.append(dic,ignore_index=True)\n"
     ]
    },
    {
     "name": "stdout",
     "output_type": "stream",
     "text": [
      "snaive2018.xlsx\n",
      "tbats2018.xlsx\n",
      "TDfa2018.xlsx\n",
      "TDfe2018.xlsx\n",
      "TDha2018.xlsx\n",
      "TDhe2018.xlsx\n",
      "wls2018.xlsx\n",
      "arima2018.xlsx\n",
      "arimastlA2018.xlsx\n",
      "arimastlB2018.xlsx\n",
      "arimastlC2018.xlsx\n",
      "ets2018.xlsx\n",
      "etsstlA2018.xlsx\n",
      "etsstlB2018.xlsx\n",
      "etsstlC2018.xlsx\n",
      "holt2018.xlsx\n",
      "hw2018.xlsx\n"
     ]
    },
    {
     "name": "stderr",
     "output_type": "stream",
     "text": [
      "C:\\Users\\rtz12\\AppData\\Local\\Temp\\ipykernel_15192\\1896440418.py:24: FutureWarning: The frame.append method is deprecated and will be removed from pandas in a future version. Use pandas.concat instead.\n",
      "  error=error.append(dic,ignore_index=True)\n"
     ]
    },
    {
     "name": "stdout",
     "output_type": "stream",
     "text": [
      "mint2018.xlsx\n",
      "nnetar2018.xlsx\n",
      "rwf2018.xlsx\n",
      "snaive2018.xlsx\n",
      "tbats2018.xlsx\n",
      "TDfa2018.xlsx\n",
      "TDfe2018.xlsx\n",
      "TDha2018.xlsx\n",
      "TDhe2018.xlsx\n",
      "wls2018.xlsx\n",
      "arima2018.xlsx\n",
      "arimastlA2018.xlsx\n",
      "arimastlB2018.xlsx\n",
      "arimastlC2018.xlsx\n",
      "ets2018.xlsx\n",
      "etsstlA2018.xlsx\n"
     ]
    },
    {
     "name": "stderr",
     "output_type": "stream",
     "text": [
      "C:\\Users\\rtz12\\AppData\\Local\\Temp\\ipykernel_15192\\1896440418.py:24: FutureWarning: The frame.append method is deprecated and will be removed from pandas in a future version. Use pandas.concat instead.\n",
      "  error=error.append(dic,ignore_index=True)\n"
     ]
    },
    {
     "name": "stdout",
     "output_type": "stream",
     "text": [
      "etsstlB2018.xlsx\n",
      "etsstlC2018.xlsx\n",
      "holt2018.xlsx\n",
      "hw2018.xlsx\n",
      "mint2018.xlsx\n",
      "nnetar2018.xlsx\n",
      "rwf2018.xlsx\n",
      "snaive2018.xlsx\n",
      "tbats2018.xlsx\n",
      "TDfa2018.xlsx\n",
      "TDfe2018.xlsx\n",
      "TDha2018.xlsx\n",
      "TDhe2018.xlsx\n",
      "wls2018.xlsx\n"
     ]
    },
    {
     "name": "stderr",
     "output_type": "stream",
     "text": [
      "C:\\Users\\rtz12\\AppData\\Local\\Temp\\ipykernel_15192\\1896440418.py:24: FutureWarning: The frame.append method is deprecated and will be removed from pandas in a future version. Use pandas.concat instead.\n",
      "  error=error.append(dic,ignore_index=True)\n"
     ]
    },
    {
     "name": "stdout",
     "output_type": "stream",
     "text": [
      "arima2018.xlsx\n",
      "arimastlA2018.xlsx\n",
      "arimastlB2018.xlsx\n",
      "arimastlC2018.xlsx\n",
      "ets2018.xlsx\n",
      "etsstlA2018.xlsx\n",
      "etsstlB2018.xlsx\n",
      "etsstlC2018.xlsx\n",
      "holt2018.xlsx\n",
      "hw2018.xlsx\n",
      "mint2018.xlsx\n",
      "nnetar2018.xlsx\n",
      "rwf2018.xlsx\n",
      "snaive2018.xlsx\n",
      "tbats2018.xlsx\n",
      "TDfa2018.xlsx\n",
      "TDfe2018.xlsx\n",
      "TDha2018.xlsx\n",
      "TDhe2018.xlsx\n",
      "wls2018.xlsx\n",
      "arima2018.xlsx\n",
      "arimastlA2018.xlsx\n",
      "arimastlB2018.xlsx\n",
      "arimastlC2018.xlsx\n",
      "ets2018.xlsx\n",
      "etsstlA2018.xlsx\n",
      "etsstlB2018.xlsx\n",
      "etsstlC2018.xlsx\n",
      "holt2018.xlsx\n",
      "hw2018.xlsx\n",
      "mint2018.xlsx\n",
      "nnetar2018.xlsx\n",
      "rwf2018.xlsx\n",
      "snaive2018.xlsx\n"
     ]
    },
    {
     "name": "stderr",
     "output_type": "stream",
     "text": [
      "C:\\Users\\rtz12\\AppData\\Local\\Temp\\ipykernel_15192\\1896440418.py:24: FutureWarning: The frame.append method is deprecated and will be removed from pandas in a future version. Use pandas.concat instead.\n",
      "  error=error.append(dic,ignore_index=True)\n"
     ]
    },
    {
     "name": "stdout",
     "output_type": "stream",
     "text": [
      "tbats2018.xlsx\n",
      "TDfa2018.xlsx\n",
      "TDfe2018.xlsx\n",
      "TDha2018.xlsx\n",
      "TDhe2018.xlsx\n",
      "wls2018.xlsx\n",
      "arima2018.xlsx\n",
      "arimastlA2018.xlsx\n",
      "arimastlB2018.xlsx\n",
      "arimastlC2018.xlsx\n",
      "ets2018.xlsx\n",
      "etsstlA2018.xlsx\n",
      "etsstlB2018.xlsx\n",
      "etsstlC2018.xlsx\n",
      "holt2018.xlsx\n",
      "hw2018.xlsx\n",
      "mint2018.xlsx\n"
     ]
    },
    {
     "name": "stderr",
     "output_type": "stream",
     "text": [
      "C:\\Users\\rtz12\\AppData\\Local\\Temp\\ipykernel_15192\\1896440418.py:24: FutureWarning: The frame.append method is deprecated and will be removed from pandas in a future version. Use pandas.concat instead.\n",
      "  error=error.append(dic,ignore_index=True)\n"
     ]
    },
    {
     "name": "stdout",
     "output_type": "stream",
     "text": [
      "nnetar2018.xlsx\n",
      "rwf2018.xlsx\n",
      "snaive2018.xlsx\n",
      "tbats2018.xlsx\n",
      "TDfa2018.xlsx\n",
      "TDfe2018.xlsx\n",
      "TDha2018.xlsx\n",
      "TDhe2018.xlsx\n",
      "wls2018.xlsx\n",
      "arima2018.xlsx\n",
      "arimastlA2018.xlsx\n",
      "arimastlB2018.xlsx\n",
      "arimastlC2018.xlsx\n",
      "ets2018.xlsx\n"
     ]
    },
    {
     "name": "stderr",
     "output_type": "stream",
     "text": [
      "C:\\Users\\rtz12\\AppData\\Local\\Temp\\ipykernel_15192\\1896440418.py:24: FutureWarning: The frame.append method is deprecated and will be removed from pandas in a future version. Use pandas.concat instead.\n",
      "  error=error.append(dic,ignore_index=True)\n"
     ]
    },
    {
     "name": "stdout",
     "output_type": "stream",
     "text": [
      "etsstlA2018.xlsx\n",
      "etsstlB2018.xlsx\n",
      "etsstlC2018.xlsx\n",
      "holt2018.xlsx\n",
      "hw2018.xlsx\n",
      "mint2018.xlsx\n",
      "nnetar2018.xlsx\n",
      "rwf2018.xlsx\n",
      "snaive2018.xlsx\n",
      "tbats2018.xlsx\n",
      "TDfa2018.xlsx\n",
      "TDfe2018.xlsx\n",
      "TDha2018.xlsx\n",
      "TDhe2018.xlsx\n",
      "wls2018.xlsx\n"
     ]
    },
    {
     "name": "stderr",
     "output_type": "stream",
     "text": [
      "C:\\Users\\rtz12\\AppData\\Local\\Temp\\ipykernel_15192\\1896440418.py:24: FutureWarning: The frame.append method is deprecated and will be removed from pandas in a future version. Use pandas.concat instead.\n",
      "  error=error.append(dic,ignore_index=True)\n"
     ]
    },
    {
     "name": "stdout",
     "output_type": "stream",
     "text": [
      "arima2018.xlsx\n",
      "arimastlA2018.xlsx\n",
      "arimastlB2018.xlsx\n",
      "arimastlC2018.xlsx\n",
      "ets2018.xlsx\n",
      "etsstlA2018.xlsx\n",
      "etsstlB2018.xlsx\n",
      "etsstlC2018.xlsx\n",
      "holt2018.xlsx\n",
      "hw2018.xlsx\n",
      "mint2018.xlsx\n",
      "nnetar2018.xlsx\n",
      "rwf2018.xlsx\n",
      "snaive2018.xlsx\n",
      "tbats2018.xlsx\n",
      "TDfa2018.xlsx\n",
      "TDfe2018.xlsx\n",
      "TDha2018.xlsx\n",
      "TDhe2018.xlsx\n",
      "wls2018.xlsx\n",
      "arima2018.xlsx\n",
      "arimastlA2018.xlsx\n",
      "arimastlB2018.xlsx\n",
      "arimastlC2018.xlsx\n",
      "ets2018.xlsx\n",
      "etsstlA2018.xlsx\n",
      "etsstlB2018.xlsx\n",
      "etsstlC2018.xlsx\n",
      "holt2018.xlsx\n",
      "hw2018.xlsx\n",
      "mint2018.xlsx\n",
      "nnetar2018.xlsx\n",
      "rwf2018.xlsx\n",
      "snaive2018.xlsx\n",
      "tbats2018.xlsx\n",
      "TDfa2018.xlsx\n"
     ]
    },
    {
     "name": "stderr",
     "output_type": "stream",
     "text": [
      "C:\\Users\\rtz12\\AppData\\Local\\Temp\\ipykernel_15192\\1896440418.py:24: FutureWarning: The frame.append method is deprecated and will be removed from pandas in a future version. Use pandas.concat instead.\n",
      "  error=error.append(dic,ignore_index=True)\n"
     ]
    },
    {
     "name": "stdout",
     "output_type": "stream",
     "text": [
      "TDfe2018.xlsx\n",
      "TDha2018.xlsx\n",
      "TDhe2018.xlsx\n",
      "wls2018.xlsx\n",
      "arima2018.xlsx\n",
      "arimastlA2018.xlsx\n",
      "arimastlB2018.xlsx\n",
      "arimastlC2018.xlsx\n",
      "ets2018.xlsx\n",
      "etsstlA2018.xlsx\n",
      "etsstlB2018.xlsx\n",
      "etsstlC2018.xlsx\n",
      "holt2018.xlsx\n",
      "hw2018.xlsx\n",
      "mint2018.xlsx\n",
      "nnetar2018.xlsx\n",
      "rwf2018.xlsx\n",
      "snaive2018.xlsx\n",
      "tbats2018.xlsx\n"
     ]
    },
    {
     "name": "stderr",
     "output_type": "stream",
     "text": [
      "C:\\Users\\rtz12\\AppData\\Local\\Temp\\ipykernel_15192\\1896440418.py:24: FutureWarning: The frame.append method is deprecated and will be removed from pandas in a future version. Use pandas.concat instead.\n",
      "  error=error.append(dic,ignore_index=True)\n"
     ]
    },
    {
     "name": "stdout",
     "output_type": "stream",
     "text": [
      "TDfa2018.xlsx\n",
      "TDfe2018.xlsx\n",
      "TDha2018.xlsx\n",
      "TDhe2018.xlsx\n",
      "wls2018.xlsx\n"
     ]
    },
    {
     "name": "stderr",
     "output_type": "stream",
     "text": [
      "C:\\Users\\rtz12\\AppData\\Local\\Temp\\ipykernel_15192\\1896440418.py:24: FutureWarning: The frame.append method is deprecated and will be removed from pandas in a future version. Use pandas.concat instead.\n",
      "  error=error.append(dic,ignore_index=True)\n"
     ]
    }
   ],
   "source": [
    "### error weighted average\n",
    "baseline_weighted_average=pd.DataFrame(index=pd.date_range(start=\"2023-01\", end=\"2024-12\", freq=\"MS\"))\n",
    "train_weighted_average=pd.DataFrame(index=pd.date_range(start=\"2018-01\", end=\"2019-12\", freq=\"MS\"))\n",
    "stacking_train=pd.DataFrame()\n",
    "stacking_test=pd.DataFrame()\n",
    "error=pd.DataFrame(columns=['arima', 'arimastlA', 'arimastlB', 'arimastlC', 'ets','hw', 'mint', 'nnetar', 'snaive',\n",
    "       'tbats', 'TDfa', 'TDfe', 'wls'])\n",
    "drop_method=[]\n",
    "# drop_method=['holt','rwf','TDha','TDhe','etsstlA','etsstlB','etsstlC']\n",
    "for i in range(20):\n",
    "    os.chdir(stack_path)\n",
    "    for file in os.listdir(stack_path):\n",
    "        print(file)\n",
    "        temp=pd.read_excel(file)\n",
    "        if file[:-9] not in drop_method:\n",
    "            stacking_train[file[:-9]]=temp.iloc[:,i]\n",
    "    y_train=np.array(data.iloc[348:372,i]).reshape(-1,1)\n",
    "    dic=dict()\n",
    "    for method in stacking_train.columns:\n",
    "        naive_error=np.mean(np.abs(np.diff(y_train.reshape(-1))))\n",
    "        prediction_error=mean_absolute_error(np.array(stacking_train[method]).reshape(-1,1),y_train)\n",
    "        dic[method]=prediction_error/naive_error\n",
    "        # dic[method]=mean_absolute_percentage_error(np.array(stacking_train[method]).reshape(-1,1),y_train)\n",
    "    error=error.append(dic,ignore_index=True)\n",
    "error_inverse=1/error.mean(axis=0)\n",
    "weight=np.array((error_inverse/error_inverse.sum())).reshape(-1,1)\n",
    "for i in range(20):\n",
    "    os.chdir(stack_path)\n",
    "    for file in os.listdir(stack_path):\n",
    "        temp=pd.read_excel(file)\n",
    "        if file[:-9] not in drop_method:\n",
    "            stacking_train[file[:-9]]=temp.iloc[:,i]\n",
    "    train_prediction=np.array(stacking_train)@weight\n",
    "    train_weighted_average[country_name[i]]=train_prediction\n",
    "\n",
    "    os.chdir(baseline_path)\n",
    "    for file in os.listdir(baseline_path):\n",
    "        temp=pd.read_excel(file)\n",
    "        if file[:-9] not in drop_method:\n",
    "            stacking_test[file[:-9]]=temp.iloc[:,i]\n",
    "    test_prediction=np.array(stacking_test)@weight\n",
    "    baseline_weighted_average[country_name[i]]=test_prediction"
   ]
  },
  {
   "cell_type": "code",
   "execution_count": 20,
   "metadata": {},
   "outputs": [],
   "source": [
    "error1=error"
   ]
  },
  {
   "cell_type": "code",
   "execution_count": 30,
   "metadata": {},
   "outputs": [
    {
     "data": {
      "text/plain": [
       "arima        1.217450\n",
       "arimastlA    1.151192\n",
       "arimastlB    1.280163\n",
       "arimastlC    1.182958\n",
       "ets          0.952258\n",
       "hw           1.102756\n",
       "mint         0.986145\n",
       "nnetar       1.333729\n",
       "snaive       1.464837\n",
       "tbats        1.494949\n",
       "TDfa         1.252022\n",
       "TDfe         0.986026\n",
       "wls          0.996086\n",
       "TDha         2.167315\n",
       "TDhe         2.180999\n",
       "etsstlA      1.629210\n",
       "etsstlB      1.754104\n",
       "etsstlC      1.422899\n",
       "holt         3.330711\n",
       "rwf          1.874122\n",
       "dtype: float64"
      ]
     },
     "execution_count": 30,
     "metadata": {},
     "output_type": "execute_result"
    }
   ],
   "source": [
    "error.mean(axis=0)"
   ]
  },
  {
   "cell_type": "code",
   "execution_count": 27,
   "metadata": {},
   "outputs": [
    {
     "data": {
      "text/plain": [
       "array([ 21459.,  -3207.,  13397.,  28060.,  22256.,   2269.,    160.,\n",
       "       -15789.,   2079., -41746., -11818.,  -8435.,  18201.,  -6866.,\n",
       "        16547.,  29238.,  10698.,   8241.,  -4493., -16771.,   4365.,\n",
       "       -41911., -11294.])"
      ]
     },
     "execution_count": 27,
     "metadata": {},
     "output_type": "execute_result"
    }
   ],
   "source": [
    "np.diff(y_train.reshape(-1))"
   ]
  },
  {
   "cell_type": "code",
   "execution_count": null,
   "metadata": {},
   "outputs": [],
   "source": [
    "baseline_average_all=(baseline_average+baseline_weighted_average+baseline_stacking_ridge+baseline_stacking_lasso)/4\n",
    "os.chdir(work_path)\n",
    "baseline_average_all.to_excel('baseline.xlsx')"
   ]
  },
  {
   "cell_type": "code",
   "execution_count": 5,
   "metadata": {},
   "outputs": [],
   "source": [
    "prediciton=pd.read_excel('reference.xlsx').iloc[:,1:]\n",
    "real=pd.read_excel('real_reference.xlsx').iloc[:,1:]"
   ]
  },
  {
   "cell_type": "code",
   "execution_count": 26,
   "metadata": {},
   "outputs": [
    {
     "name": "stdout",
     "output_type": "stream",
     "text": [
      "arimax_full_result.xlsx\n",
      "arimax_part_result.xlsx\n",
      "ets_result.xlsx\n",
      "flight_result.xlsx\n",
      "holtwinters_result.xlsx\n",
      "prophet_full_result.xlsx\n",
      "prophet_part_result.xlsx\n",
      "tbats_result.xlsx\n"
     ]
    }
   ],
   "source": [
    "model=pd.read_excel('reference_series'+'//'+'arimax_full_result.xlsx')\n",
    "res=model.copy()\n",
    "res[:]=0\n",
    "\n",
    "for file in os.listdir('reference_series'):\n",
    "    print(file)\n",
    "    if file =='flight_result.xlsx':\n",
    "        temp=pd.read_excel('reference_series'+'//'+file)\n",
    "        res=res+temp\n",
    "    # print(((prediciton-real.iloc[1:].reset_index()).abs().mean().iloc[1:]/real.diff().abs().mean()).mean())"
   ]
  },
  {
   "cell_type": "code",
   "execution_count": 27,
   "metadata": {},
   "outputs": [
    {
     "data": {
      "text/html": [
       "<div>\n",
       "<style scoped>\n",
       "    .dataframe tbody tr th:only-of-type {\n",
       "        vertical-align: middle;\n",
       "    }\n",
       "\n",
       "    .dataframe tbody tr th {\n",
       "        vertical-align: top;\n",
       "    }\n",
       "\n",
       "    .dataframe thead th {\n",
       "        text-align: right;\n",
       "    }\n",
       "</style>\n",
       "<table border=\"1\" class=\"dataframe\">\n",
       "  <thead>\n",
       "    <tr style=\"text-align: right;\">\n",
       "      <th></th>\n",
       "      <th>Unnamed: 0</th>\n",
       "      <th>加拿大</th>\n",
       "      <th>智利</th>\n",
       "      <th>墨西哥</th>\n",
       "      <th>台湾</th>\n",
       "      <th>香港</th>\n",
       "      <th>日本</th>\n",
       "      <th>韩国</th>\n",
       "      <th>澳门</th>\n",
       "      <th>马尔代夫</th>\n",
       "      <th>...</th>\n",
       "      <th>印尼</th>\n",
       "      <th>新加坡</th>\n",
       "      <th>新西兰</th>\n",
       "      <th>美国</th>\n",
       "      <th>泰国</th>\n",
       "      <th>土耳其</th>\n",
       "      <th>澳大利亚</th>\n",
       "      <th>夏威夷</th>\n",
       "      <th>奥地利</th>\n",
       "      <th>捷克</th>\n",
       "    </tr>\n",
       "  </thead>\n",
       "  <tbody>\n",
       "    <tr>\n",
       "      <th>0</th>\n",
       "      <td>2023-01-01</td>\n",
       "      <td>6946.804949</td>\n",
       "      <td>872.000000</td>\n",
       "      <td>10303.000000</td>\n",
       "      <td>9633.000000</td>\n",
       "      <td>280525.000000</td>\n",
       "      <td>31200.000000</td>\n",
       "      <td>24946.000000</td>\n",
       "      <td>9.916410e+05</td>\n",
       "      <td>5796.000000</td>\n",
       "      <td>...</td>\n",
       "      <td>27080.000000</td>\n",
       "      <td>28363.000000</td>\n",
       "      <td>4949.000000</td>\n",
       "      <td>63386.000000</td>\n",
       "      <td>91841.000000</td>\n",
       "      <td>8899.000000</td>\n",
       "      <td>14630.000000</td>\n",
       "      <td>1164.000000</td>\n",
       "      <td>4440.000000</td>\n",
       "      <td>2081.280521</td>\n",
       "    </tr>\n",
       "    <tr>\n",
       "      <th>1</th>\n",
       "      <td>2023-02-01</td>\n",
       "      <td>10067.486375</td>\n",
       "      <td>955.210730</td>\n",
       "      <td>9864.880057</td>\n",
       "      <td>10861.229192</td>\n",
       "      <td>48275.000000</td>\n",
       "      <td>36200.000000</td>\n",
       "      <td>21046.650019</td>\n",
       "      <td>1.238450e+06</td>\n",
       "      <td>32788.437802</td>\n",
       "      <td>...</td>\n",
       "      <td>48225.916379</td>\n",
       "      <td>35300.000000</td>\n",
       "      <td>8065.467956</td>\n",
       "      <td>40829.000000</td>\n",
       "      <td>255712.549339</td>\n",
       "      <td>10225.837869</td>\n",
       "      <td>84134.581235</td>\n",
       "      <td>1498.728307</td>\n",
       "      <td>2918.153530</td>\n",
       "      <td>4940.274181</td>\n",
       "    </tr>\n",
       "    <tr>\n",
       "      <th>2</th>\n",
       "      <td>2023-03-01</td>\n",
       "      <td>6628.418319</td>\n",
       "      <td>1070.815804</td>\n",
       "      <td>15490.807484</td>\n",
       "      <td>12847.555294</td>\n",
       "      <td>62930.471487</td>\n",
       "      <td>40800.694215</td>\n",
       "      <td>43769.917901</td>\n",
       "      <td>1.337879e+06</td>\n",
       "      <td>25756.441261</td>\n",
       "      <td>...</td>\n",
       "      <td>56721.474777</td>\n",
       "      <td>88545.438931</td>\n",
       "      <td>7423.390684</td>\n",
       "      <td>51774.725085</td>\n",
       "      <td>445128.604544</td>\n",
       "      <td>13385.733882</td>\n",
       "      <td>68415.919320</td>\n",
       "      <td>758.872337</td>\n",
       "      <td>7359.361708</td>\n",
       "      <td>6026.772524</td>\n",
       "    </tr>\n",
       "    <tr>\n",
       "      <th>3</th>\n",
       "      <td>2023-04-01</td>\n",
       "      <td>8431.674250</td>\n",
       "      <td>970.735458</td>\n",
       "      <td>8640.303777</td>\n",
       "      <td>15947.820511</td>\n",
       "      <td>80805.249615</td>\n",
       "      <td>53863.305469</td>\n",
       "      <td>112160.994535</td>\n",
       "      <td>1.465593e+06</td>\n",
       "      <td>36180.012315</td>\n",
       "      <td>...</td>\n",
       "      <td>69097.566723</td>\n",
       "      <td>112339.942248</td>\n",
       "      <td>9025.824947</td>\n",
       "      <td>55491.046941</td>\n",
       "      <td>660147.534396</td>\n",
       "      <td>23284.478405</td>\n",
       "      <td>72088.920010</td>\n",
       "      <td>1129.207918</td>\n",
       "      <td>13057.937680</td>\n",
       "      <td>8699.028682</td>\n",
       "    </tr>\n",
       "    <tr>\n",
       "      <th>4</th>\n",
       "      <td>2023-05-01</td>\n",
       "      <td>14794.700136</td>\n",
       "      <td>808.960846</td>\n",
       "      <td>9340.521608</td>\n",
       "      <td>17427.115526</td>\n",
       "      <td>86932.221583</td>\n",
       "      <td>57890.270525</td>\n",
       "      <td>155280.088837</td>\n",
       "      <td>1.488961e+06</td>\n",
       "      <td>55404.236439</td>\n",
       "      <td>...</td>\n",
       "      <td>79770.310711</td>\n",
       "      <td>113666.936781</td>\n",
       "      <td>7931.588169</td>\n",
       "      <td>76717.569175</td>\n",
       "      <td>700290.520271</td>\n",
       "      <td>31593.829739</td>\n",
       "      <td>58908.009848</td>\n",
       "      <td>1437.706215</td>\n",
       "      <td>16285.113061</td>\n",
       "      <td>11946.508084</td>\n",
       "    </tr>\n",
       "    <tr>\n",
       "      <th>5</th>\n",
       "      <td>2023-06-01</td>\n",
       "      <td>19162.872943</td>\n",
       "      <td>612.758592</td>\n",
       "      <td>8066.258476</td>\n",
       "      <td>16016.969460</td>\n",
       "      <td>84681.146397</td>\n",
       "      <td>71515.733031</td>\n",
       "      <td>173047.156866</td>\n",
       "      <td>1.375735e+06</td>\n",
       "      <td>61384.389590</td>\n",
       "      <td>...</td>\n",
       "      <td>92323.984598</td>\n",
       "      <td>128065.379121</td>\n",
       "      <td>4352.133516</td>\n",
       "      <td>90434.257606</td>\n",
       "      <td>664568.369491</td>\n",
       "      <td>30961.610786</td>\n",
       "      <td>66650.814052</td>\n",
       "      <td>1345.881552</td>\n",
       "      <td>17296.176122</td>\n",
       "      <td>13660.518986</td>\n",
       "    </tr>\n",
       "  </tbody>\n",
       "</table>\n",
       "<p>6 rows × 21 columns</p>\n",
       "</div>"
      ],
      "text/plain": [
       "  Unnamed: 0           加拿大           智利           墨西哥            台湾  \\\n",
       "0 2023-01-01   6946.804949   872.000000  10303.000000   9633.000000   \n",
       "1 2023-02-01  10067.486375   955.210730   9864.880057  10861.229192   \n",
       "2 2023-03-01   6628.418319  1070.815804  15490.807484  12847.555294   \n",
       "3 2023-04-01   8431.674250   970.735458   8640.303777  15947.820511   \n",
       "4 2023-05-01  14794.700136   808.960846   9340.521608  17427.115526   \n",
       "5 2023-06-01  19162.872943   612.758592   8066.258476  16016.969460   \n",
       "\n",
       "              香港            日本             韩国            澳门          马尔代夫  \\\n",
       "0  280525.000000  31200.000000   24946.000000  9.916410e+05   5796.000000   \n",
       "1   48275.000000  36200.000000   21046.650019  1.238450e+06  32788.437802   \n",
       "2   62930.471487  40800.694215   43769.917901  1.337879e+06  25756.441261   \n",
       "3   80805.249615  53863.305469  112160.994535  1.465593e+06  36180.012315   \n",
       "4   86932.221583  57890.270525  155280.088837  1.488961e+06  55404.236439   \n",
       "5   84681.146397  71515.733031  173047.156866  1.375735e+06  61384.389590   \n",
       "\n",
       "   ...            印尼            新加坡          新西兰            美国             泰国  \\\n",
       "0  ...  27080.000000   28363.000000  4949.000000  63386.000000   91841.000000   \n",
       "1  ...  48225.916379   35300.000000  8065.467956  40829.000000  255712.549339   \n",
       "2  ...  56721.474777   88545.438931  7423.390684  51774.725085  445128.604544   \n",
       "3  ...  69097.566723  112339.942248  9025.824947  55491.046941  660147.534396   \n",
       "4  ...  79770.310711  113666.936781  7931.588169  76717.569175  700290.520271   \n",
       "5  ...  92323.984598  128065.379121  4352.133516  90434.257606  664568.369491   \n",
       "\n",
       "            土耳其          澳大利亚          夏威夷           奥地利            捷克  \n",
       "0   8899.000000  14630.000000  1164.000000   4440.000000   2081.280521  \n",
       "1  10225.837869  84134.581235  1498.728307   2918.153530   4940.274181  \n",
       "2  13385.733882  68415.919320   758.872337   7359.361708   6026.772524  \n",
       "3  23284.478405  72088.920010  1129.207918  13057.937680   8699.028682  \n",
       "4  31593.829739  58908.009848  1437.706215  16285.113061  11946.508084  \n",
       "5  30961.610786  66650.814052  1345.881552  17296.176122  13660.518986  \n",
       "\n",
       "[6 rows x 21 columns]"
      ]
     },
     "execution_count": 27,
     "metadata": {},
     "output_type": "execute_result"
    }
   ],
   "source": [
    "temp"
   ]
  },
  {
   "cell_type": "code",
   "execution_count": 25,
   "metadata": {},
   "outputs": [
    {
     "data": {
      "text/html": [
       "<div>\n",
       "<style scoped>\n",
       "    .dataframe tbody tr th:only-of-type {\n",
       "        vertical-align: middle;\n",
       "    }\n",
       "\n",
       "    .dataframe tbody tr th {\n",
       "        vertical-align: top;\n",
       "    }\n",
       "\n",
       "    .dataframe thead th {\n",
       "        text-align: right;\n",
       "    }\n",
       "</style>\n",
       "<table border=\"1\" class=\"dataframe\">\n",
       "  <thead>\n",
       "    <tr style=\"text-align: right;\">\n",
       "      <th></th>\n",
       "      <th>加拿大</th>\n",
       "      <th>智利</th>\n",
       "      <th>墨西哥</th>\n",
       "      <th>台湾</th>\n",
       "      <th>香港</th>\n",
       "      <th>日本</th>\n",
       "      <th>韩国</th>\n",
       "      <th>澳门</th>\n",
       "      <th>马尔代夫</th>\n",
       "      <th>柬埔寨</th>\n",
       "      <th>印尼</th>\n",
       "      <th>新加坡</th>\n",
       "      <th>新西兰</th>\n",
       "      <th>美国</th>\n",
       "      <th>泰国</th>\n",
       "      <th>土耳其</th>\n",
       "      <th>澳大利亚</th>\n",
       "      <th>夏威夷</th>\n",
       "      <th>奥地利</th>\n",
       "      <th>捷克</th>\n",
       "    </tr>\n",
       "  </thead>\n",
       "  <tbody>\n",
       "    <tr>\n",
       "      <th>0</th>\n",
       "      <td>9217</td>\n",
       "      <td>1372</td>\n",
       "      <td>17627</td>\n",
       "      <td>5437</td>\n",
       "      <td>67244</td>\n",
       "      <td>33567</td>\n",
       "      <td>27367</td>\n",
       "      <td>336593</td>\n",
       "      <td>2468</td>\n",
       "      <td>16227</td>\n",
       "      <td>29642</td>\n",
       "      <td>19684</td>\n",
       "      <td>4731</td>\n",
       "      <td>48435</td>\n",
       "      <td>54146</td>\n",
       "      <td>10954</td>\n",
       "      <td>13880</td>\n",
       "      <td>2068</td>\n",
       "      <td>7166</td>\n",
       "      <td>9546</td>\n",
       "    </tr>\n",
       "    <tr>\n",
       "      <th>1</th>\n",
       "      <td>9244</td>\n",
       "      <td>872</td>\n",
       "      <td>10303</td>\n",
       "      <td>9633</td>\n",
       "      <td>280525</td>\n",
       "      <td>31200</td>\n",
       "      <td>24946</td>\n",
       "      <td>991641</td>\n",
       "      <td>5796</td>\n",
       "      <td>24978</td>\n",
       "      <td>27080</td>\n",
       "      <td>28363</td>\n",
       "      <td>4949</td>\n",
       "      <td>63386</td>\n",
       "      <td>91841</td>\n",
       "      <td>8899</td>\n",
       "      <td>14630</td>\n",
       "      <td>1164</td>\n",
       "      <td>4440</td>\n",
       "      <td>7757</td>\n",
       "    </tr>\n",
       "    <tr>\n",
       "      <th>2</th>\n",
       "      <td>8132</td>\n",
       "      <td>1034</td>\n",
       "      <td>9296</td>\n",
       "      <td>9346</td>\n",
       "      <td>1109885</td>\n",
       "      <td>36200</td>\n",
       "      <td>45884</td>\n",
       "      <td>1003999</td>\n",
       "      <td>4276</td>\n",
       "      <td>54457</td>\n",
       "      <td>36434</td>\n",
       "      <td>35300</td>\n",
       "      <td>4212</td>\n",
       "      <td>40829</td>\n",
       "      <td>155656</td>\n",
       "      <td>8888</td>\n",
       "      <td>40430</td>\n",
       "      <td>421</td>\n",
       "      <td>4514</td>\n",
       "      <td>6484</td>\n",
       "    </tr>\n",
       "    <tr>\n",
       "      <th>3</th>\n",
       "      <td>10053</td>\n",
       "      <td>1622</td>\n",
       "      <td>14175</td>\n",
       "      <td>10800</td>\n",
       "      <td>1970777</td>\n",
       "      <td>75700</td>\n",
       "      <td>73390</td>\n",
       "      <td>1242358</td>\n",
       "      <td>7619</td>\n",
       "      <td>53230</td>\n",
       "      <td>54549</td>\n",
       "      <td>60888</td>\n",
       "      <td>7119</td>\n",
       "      <td>67440</td>\n",
       "      <td>269773</td>\n",
       "      <td>13424</td>\n",
       "      <td>26810</td>\n",
       "      <td>1187</td>\n",
       "      <td>7328</td>\n",
       "      <td>11280</td>\n",
       "    </tr>\n",
       "    <tr>\n",
       "      <th>4</th>\n",
       "      <td>11072</td>\n",
       "      <td>1549</td>\n",
       "      <td>11569</td>\n",
       "      <td>14944</td>\n",
       "      <td>2308561</td>\n",
       "      <td>108295</td>\n",
       "      <td>105967</td>\n",
       "      <td>1386944</td>\n",
       "      <td>13504</td>\n",
       "      <td>51344</td>\n",
       "      <td>55090</td>\n",
       "      <td>90725</td>\n",
       "      <td>11237</td>\n",
       "      <td>118631</td>\n",
       "      <td>328414</td>\n",
       "      <td>17231</td>\n",
       "      <td>32000</td>\n",
       "      <td>635</td>\n",
       "      <td>12045</td>\n",
       "      <td>12910</td>\n",
       "    </tr>\n",
       "    <tr>\n",
       "      <th>5</th>\n",
       "      <td>16401</td>\n",
       "      <td>1251</td>\n",
       "      <td>11657</td>\n",
       "      <td>13601</td>\n",
       "      <td>2285859</td>\n",
       "      <td>134510</td>\n",
       "      <td>128171</td>\n",
       "      <td>1474304</td>\n",
       "      <td>15204</td>\n",
       "      <td>43738</td>\n",
       "      <td>64056</td>\n",
       "      <td>95613</td>\n",
       "      <td>8541</td>\n",
       "      <td>87622</td>\n",
       "      <td>285547</td>\n",
       "      <td>18308</td>\n",
       "      <td>32210</td>\n",
       "      <td>1510</td>\n",
       "      <td>13858</td>\n",
       "      <td>13252</td>\n",
       "    </tr>\n",
       "    <tr>\n",
       "      <th>6</th>\n",
       "      <td>21216</td>\n",
       "      <td>1326</td>\n",
       "      <td>11206</td>\n",
       "      <td>15117</td>\n",
       "      <td>2155143</td>\n",
       "      <td>208573</td>\n",
       "      <td>168035</td>\n",
       "      <td>1444933</td>\n",
       "      <td>17028</td>\n",
       "      <td>40383</td>\n",
       "      <td>62499</td>\n",
       "      <td>113290</td>\n",
       "      <td>8681</td>\n",
       "      <td>86392</td>\n",
       "      <td>311888</td>\n",
       "      <td>22215</td>\n",
       "      <td>37330</td>\n",
       "      <td>1136</td>\n",
       "      <td>19233</td>\n",
       "      <td>16406</td>\n",
       "    </tr>\n",
       "  </tbody>\n",
       "</table>\n",
       "</div>"
      ],
      "text/plain": [
       "     加拿大    智利    墨西哥     台湾       香港      日本      韩国       澳门   马尔代夫    柬埔寨  \\\n",
       "0   9217  1372  17627   5437    67244   33567   27367   336593   2468  16227   \n",
       "1   9244   872  10303   9633   280525   31200   24946   991641   5796  24978   \n",
       "2   8132  1034   9296   9346  1109885   36200   45884  1003999   4276  54457   \n",
       "3  10053  1622  14175  10800  1970777   75700   73390  1242358   7619  53230   \n",
       "4  11072  1549  11569  14944  2308561  108295  105967  1386944  13504  51344   \n",
       "5  16401  1251  11657  13601  2285859  134510  128171  1474304  15204  43738   \n",
       "6  21216  1326  11206  15117  2155143  208573  168035  1444933  17028  40383   \n",
       "\n",
       "      印尼     新加坡    新西兰      美国      泰国    土耳其   澳大利亚   夏威夷    奥地利     捷克  \n",
       "0  29642   19684   4731   48435   54146  10954  13880  2068   7166   9546  \n",
       "1  27080   28363   4949   63386   91841   8899  14630  1164   4440   7757  \n",
       "2  36434   35300   4212   40829  155656   8888  40430   421   4514   6484  \n",
       "3  54549   60888   7119   67440  269773  13424  26810  1187   7328  11280  \n",
       "4  55090   90725  11237  118631  328414  17231  32000   635  12045  12910  \n",
       "5  64056   95613   8541   87622  285547  18308  32210  1510  13858  13252  \n",
       "6  62499  113290   8681   86392  311888  22215  37330  1136  19233  16406  "
      ]
     },
     "execution_count": 25,
     "metadata": {},
     "output_type": "execute_result"
    }
   ],
   "source": [
    "real"
   ]
  },
  {
   "cell_type": "code",
   "execution_count": 23,
   "metadata": {},
   "outputs": [],
   "source": [
    "((res/7-real.iloc[1:]).abs().mean()/real.diff().abs().mean()).reindex(real.columns).to_excel('error1.xlsx')"
   ]
  },
  {
   "cell_type": "code",
   "execution_count": 17,
   "metadata": {},
   "outputs": [
    {
     "data": {
      "text/plain": [
       "加拿大      0.880233\n",
       "印尼       3.180832\n",
       "台湾       1.370327\n",
       "土耳其      3.328902\n",
       "墨西哥      1.319732\n",
       "夏威夷      0.483308\n",
       "奥地利      1.217565\n",
       "捷克       0.667924\n",
       "新加坡      2.141256\n",
       "新西兰      1.745077\n",
       "日本       0.966973\n",
       "智利       1.520923\n",
       "柬埔寨      1.380486\n",
       "泰国       5.571102\n",
       "澳大利亚     4.832154\n",
       "澳门       1.032843\n",
       "美国       0.733403\n",
       "韩国       1.146096\n",
       "香港       3.804337\n",
       "马尔代夫    11.257808\n",
       "dtype: float64"
      ]
     },
     "execution_count": 17,
     "metadata": {},
     "output_type": "execute_result"
    }
   ],
   "source": [
    "(res.iloc[:,1:]-real.iloc[1:]).abs().mean()/real.diff().abs().mean()"
   ]
  },
  {
   "cell_type": "code",
   "execution_count": 62,
   "metadata": {},
   "outputs": [
    {
     "data": {
      "text/plain": [
       "加拿大    -0.241168\n",
       "智利     -0.216325\n",
       "墨西哥     0.040636\n",
       "台湾     -0.323556\n",
       "香港     -0.864724\n",
       "日本     -0.805002\n",
       "韩国     -0.559327\n",
       "澳门     -0.519934\n",
       "马尔代夫    0.499022\n",
       "柬埔寨    -0.317739\n",
       "印尼      0.607352\n",
       "新加坡    -0.561537\n",
       "新西兰    -0.603248\n",
       "美国     -0.611879\n",
       "泰国      0.198374\n",
       "土耳其    -0.046475\n",
       "澳大利亚   -0.294235\n",
       "夏威夷     1.926829\n",
       "奥地利    -0.271373\n",
       "捷克     -0.052980\n",
       "dtype: float64"
      ]
     },
     "execution_count": 62,
     "metadata": {},
     "output_type": "execute_result"
    }
   ],
   "source": [
    "(prediciton.iloc[-1]-real.iloc[-1])/real.iloc[-1]"
   ]
  },
  {
   "cell_type": "code",
   "execution_count": null,
   "metadata": {},
   "outputs": [
    {
     "data": {
      "text/plain": [
       "加拿大       3530.833333\n",
       "智利         189.166667\n",
       "墨西哥       1429.000000\n",
       "台湾        3510.333333\n",
       "香港      438707.833333\n",
       "日本       54671.333333\n",
       "韩国       35629.166667\n",
       "澳门      229553.833333\n",
       "马尔代夫      4187.000000\n",
       "柬埔寨       4680.166667\n",
       "印尼        8646.333333\n",
       "新加坡      35320.000000\n",
       "新西兰       2912.000000\n",
       "美国       32946.833333\n",
       "泰国       65925.666667\n",
       "土耳其       2859.333333\n",
       "澳大利亚     14350.000000\n",
       "夏威夷        452.000000\n",
       "奥地利       3023.666667\n",
       "捷克        2864.166667\n",
       "dtype: float64"
      ]
     },
     "execution_count": 13,
     "metadata": {},
     "output_type": "execute_result"
    }
   ],
   "source": []
  }
 ],
 "metadata": {
  "kernelspec": {
   "display_name": "base",
   "language": "python",
   "name": "python3"
  },
  "language_info": {
   "codemirror_mode": {
    "name": "ipython",
    "version": 3
   },
   "file_extension": ".py",
   "mimetype": "text/x-python",
   "name": "python",
   "nbconvert_exporter": "python",
   "pygments_lexer": "ipython3",
   "version": "3.9.13"
  },
  "orig_nbformat": 4
 },
 "nbformat": 4,
 "nbformat_minor": 2
}
