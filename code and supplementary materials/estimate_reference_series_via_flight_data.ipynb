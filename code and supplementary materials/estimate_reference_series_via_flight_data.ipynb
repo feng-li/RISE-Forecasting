{
 "cells": [
  {
   "cell_type": "code",
   "execution_count": null,
   "metadata": {},
   "outputs": [],
   "source": [
    "import os\n",
    "import pandas as pd\n",
    "import numpy as np\n",
    "from statsmodels.tsa.seasonal import STL"
   ]
  },
  {
   "cell_type": "code",
   "execution_count": null,
   "metadata": {},
   "outputs": [],
   "source": [
    "work_path=r'D:\\university\\研究生\\tourism_forecasting_competition\\submit' #####work_path must be adjusted before running the code.\n",
    "os.chdir(work_path)"
   ]
  },
  {
   "cell_type": "code",
   "execution_count": null,
   "metadata": {},
   "outputs": [],
   "source": [
    "country_name=[\"加拿大\",'智利','墨西哥','台湾','香港','日本','韩国','澳门','马尔代夫','柬埔寨','印尼','新加坡','新西兰','美国','泰国','土耳其','澳大利亚','夏威夷','奥地利','捷克']"
   ]
  },
  {
   "cell_type": "code",
   "execution_count": null,
   "metadata": {},
   "outputs": [],
   "source": [
    "flight=pd.read_excel(work_path+'\\\\'+'flight.xlsx')\n",
    "flight=flight.replace({0:1})\n",
    "flight.index=np.array(flight.iloc[:,0])\n",
    "flight=flight.iloc[:,1:]\n",
    "flight_2023=flight[flight.index.year==2023]\n",
    "data=pd.read_excel(work_path+'\\\\'+'data.xlsx').iloc[:,1:]\n",
    "data.columns=country_name\n",
    "data.index=pd.date_range(start=\"1989-1\", end=\"2023-02\", freq=\"MS\")\n",
    "data_full=data.copy().iloc[:372,:]\n",
    "data=data.iloc[360:]\n",
    "fill1=[5,4,4,4,3,3,4,4,4,4,4,3,4,3,4,4,4,4,4,5]\n",
    "fill2=[2,1,1,1,0,0,1,1,1,1,1,0,1,0,1,1,1,1,1,2]"
   ]
  },
  {
   "cell_type": "code",
   "execution_count": null,
   "metadata": {},
   "outputs": [],
   "source": [
    "###using flight data to estimate reference series\n",
    "flight_result=pd.DataFrame(np.zeros(shape=(6,20)),columns=country_name)\n",
    "flight_result.index=pd.date_range(start=\"2023-01\", end=\"2023-06\", freq=\"MS\")\n",
    "flight_pre=list()\n",
    "data_pre=list()\n",
    "for i in range(20):\n",
    "    flight_pre.append(flight.iloc[flight.shape[0]-fill1[i]-2,i])\n",
    "    data_pre.append(data.iloc[data.shape[0]-fill2[i]-1,i])\n",
    "for j in range(20):\n",
    "    stl = STL(np.log(data_full.dropna().iloc[:,j]), period=12, seasonal=13)\n",
    "    res = stl.fit()\n",
    "    seasonal=pd.DataFrame(res.seasonal[:-1])\n",
    "    q=pd.Series(seasonal.index).apply(lambda x:x.month)\n",
    "    seasonal['month']=np.array(q)\n",
    "    seasonal_mean=seasonal.groupby(by='month').mean()\n",
    "    for i in range(6):\n",
    "        if i<5-fill1[j]:\n",
    "            flight_result.iloc[i,j]=data.iloc[48+i,j]\n",
    "        else:\n",
    "            flight_result.iloc[i,j]=(flight_2023.iloc[i,j]/flight_pre[j])*data_pre[j]*(1+seasonal_mean.iloc[i,0])\n",
    "flight_result.to_excel(work_path+'\\\\reference_series'+'\\\\flight_result.xlsx')"
   ]
  },
  {
   "cell_type": "code",
   "execution_count": null,
   "metadata": {},
   "outputs": [],
   "source": [
    "###Average the reference series estimated by search data and flight data\n",
    "method_name=['holtwinters','ets','tbats','arimax_full','arimax_part','prophet_full','prophet_part']\n",
    "reference=pd.DataFrame(index=np.arange(6),columns=country_name)\n",
    "reference=reference.fillna(0)\n",
    "for method in method_name:\n",
    "    ref=pd.read_excel(work_path+'\\\\reference_series'+'\\\\'+method+'_result.xlsx')\n",
    "    reference+=ref\n",
    "reference=reference/7\n",
    "flight_reference=pd.read_excel(work_path+'\\\\reference_series'+'\\\\'+'flight_result.xlsx').iloc[:,1:]\n",
    "for country in [\"加拿大\",'台湾','日本','韩国','澳门','马尔代夫','柬埔寨','印尼','新加坡','新西兰','美国','泰国','土耳其','澳大利亚','奥地利']:\n",
    "    reference[country]=(reference[country]+flight_reference[country])/2\n",
    "reference.to_excel('reference.xlsx')"
   ]
  }
 ],
 "metadata": {
  "kernelspec": {
   "display_name": "Python 3",
   "language": "python",
   "name": "python3"
  },
  "language_info": {
   "codemirror_mode": {
    "name": "ipython",
    "version": 3
   },
   "file_extension": ".py",
   "mimetype": "text/x-python",
   "name": "python",
   "nbconvert_exporter": "python",
   "pygments_lexer": "ipython3",
   "version": "3.10.11"
  },
  "orig_nbformat": 4,
  "vscode": {
   "interpreter": {
    "hash": "45037c9fa964e33746a67959e611b1255904e81b18931a74a47f598c93f55abd"
   }
  }
 },
 "nbformat": 4,
 "nbformat_minor": 2
}
