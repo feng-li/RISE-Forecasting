{
 "cells": [
  {
   "cell_type": "code",
   "execution_count": 1,
   "metadata": {},
   "outputs": [],
   "source": [
    "import requests\n",
    "import os\n",
    "import json\n",
    "import pandas as pd\n",
    "import numpy as np\n"
   ]
  },
  {
   "cell_type": "code",
   "execution_count": 4,
   "metadata": {},
   "outputs": [],
   "source": [
    "work_path=r'D:\\university\\研究生\\tourism_forecasting_competition\\submit\\code and supplementary materials' ##work_path must be adjusted before running the code.\n",
    "os.chdir(work_path)"
   ]
  },
  {
   "cell_type": "code",
   "execution_count": 5,
   "metadata": {},
   "outputs": [],
   "source": [
    "keywords_dict=np.load('keywords.npy',allow_pickle=True).item()  ##load the keywords dict"
   ]
  },
  {
   "cell_type": "code",
   "execution_count": 6,
   "metadata": {},
   "outputs": [
    {
     "data": {
      "text/plain": [
       "{'加拿大': Index(['加拿大旅游', '加拿大酒店', '加拿大签证', '加拿大航空', '温哥华', '蒙特利尔', '渥太华'], dtype='object'),\n",
       " '智利': Index(['智利旅游', '智利签证', '圣地亚哥'], dtype='object'),\n",
       " '墨西哥': Index(['墨西哥旅游', '墨西哥签证'], dtype='object'),\n",
       " '台湾': Index(['台湾旅游', '台湾旅游攻略', '台湾酒店', '台湾签证', '台湾美食', '台湾小吃', '台湾购物'], dtype='object'),\n",
       " '香港': Index(['香港旅游', '香港旅游攻略', '香港航空', '香港酒店', '香港签证', '香港美食', '香港小吃', '香港购物',\n",
       "        '香港旅游地图', '香港旅游景点', '港澳通行证'],\n",
       "       dtype='object'),\n",
       " '日本': Index(['日本旅游', '日本旅游攻略', '日本航空', '日本酒店', '日本签证', '日本美食', '日本小吃', '日本购物',\n",
       "        '日本旅游地图', '日本旅游景点', '东京', '大阪', '名古屋'],\n",
       "       dtype='object'),\n",
       " '韩国': Index(['韩国旅游', '韩国旅游攻略', '韩国酒店', '韩国签证', '韩国美食', '韩国购物', '韩国旅游景点', '首尔', '济州岛',\n",
       "        '釜山'],\n",
       "       dtype='object'),\n",
       " '澳门': Index(['澳门旅游', '澳门旅游攻略', '澳门航空', '澳门酒店', '澳门签证', '澳门美食', '港澳通行证'], dtype='object'),\n",
       " '马尔代夫': Index(['马尔代夫旅游', '马尔代夫旅游攻略', '马尔代夫酒店', '马尔代夫签证'], dtype='object'),\n",
       " '柬埔寨': Index(['柬埔寨旅游', '柬埔寨签证', '吴哥窟'], dtype='object'),\n",
       " '印尼': Index(['印尼旅游', '印尼签证', '巴厘岛'], dtype='object'),\n",
       " '新加坡': Index(['新加坡旅游', '新加坡旅游攻略', '新加坡航空', '新加坡酒店', '新加坡签证'], dtype='object'),\n",
       " '新西兰': Index(['新西兰旅游', '新西兰旅游攻略', '新西兰航空', '新西兰酒店', '新西兰签证'], dtype='object'),\n",
       " '美国': Index(['美国旅游', '美国旅游攻略', '美国航空', '美国酒店', '美国签证', '纽约', '华盛顿', '洛杉矶', '旧金山'], dtype='object'),\n",
       " '泰国': Index(['泰国旅游', '泰国旅游攻略', '泰国航空', '泰国酒店', '泰国签证', '清迈', '曼谷', '苏梅岛', '普吉岛'], dtype='object'),\n",
       " '土耳其': Index(['土耳其旅游', '土耳其旅游攻略', '土耳其航空', '土耳其酒店', '土耳其签证', '伊斯坦布尔'], dtype='object'),\n",
       " '澳大利亚': Index(['澳大利亚旅游', '澳大利亚旅游攻略', '澳大利亚酒店', '澳大利亚签证', '悉尼', '墨尔本'], dtype='object'),\n",
       " '夏威夷': Index(['夏威夷旅游', '夏威夷旅游攻略'], dtype='object'),\n",
       " '奥地利': Index(['奥地利旅游', '奥地利航空', '奥地利签证'], dtype='object'),\n",
       " '捷克': Index(['捷克旅游', '捷克签证'], dtype='object')}"
      ]
     },
     "execution_count": 6,
     "metadata": {},
     "output_type": "execute_result"
    }
   ],
   "source": [
    "keywords_dict"
   ]
  },
  {
   "cell_type": "code",
   "execution_count": null,
   "metadata": {},
   "outputs": [],
   "source": [
    "word_url = 'http://index.baidu.com/api/SearchApi/thumbnail?area=0&word={}'\n",
    " \n",
    "def get_html(url):\n",
    "    headers = {\n",
    "        \"User-Agent\": \"Mozilla/5.0 (Windows NT 10.0; Win64; x64) AppleWebKit/537.36 (KHTML, like Gecko) Chrome/113.0.0.0 Safari/537.36 Edg/113.0.1774.35\",\n",
    "        \"Host\": \"index.baidu.com\",\n",
    "        \"Referer\": \"http://index.baidu.com/v2/main/index.html\",\n",
    "        \"Cipher-Text\": \"1683640803370_1683703585214_jOeRpyxsdtGlDTGrBbZqj35wdrlA3C3hUDapZa0rB8O0H0aY7YADSkikLuIOT3vouLE64ezNLOAjqEjKho7vVDu5kW/1MKJvFfIRWQT1Pi+Rm7RoG9DIq7kLc9Tkq27ib6KvcrbM1bADI67Rrlae7Xkqu8s208JTx+QgL6BagojiA7Ks9Jx9Tsv4b8hOvY8Yi/IqUDoOlgf/ViDiFl1hE+jsN8Efpt4FxRVT8i1UwgFyIBgC6DNNgxLo0T7GkUUd21sjBjIA7NRBGUUvKglOqCrHsPVLZi+DMBLmIFnnmBTsBhLcQwc8bMvL/foSJpn9AaPjcHaL9d1p8/3GE62a2aNybc0mIQRSmjoAgLfuCxNYjIxOoyuupscsNAF3DBX/ps/jWZgYLb3iGO+nV6br4x9CckpLu2xy5R2t1Igqz7DBDuLJH+i7WzJdf6+LKkDkcEYYIuWUTzMhVEUms+DKiA==\"\n",
    "    }\n",
    "    cookies = {\n",
    "        'Cookie': '__bid_n=187556eeb9d9f14ef04207; BAIDU_WISE_UID=wapp_1680766238391_861; BIDUPSID=8BF8887FE98B8F3095EDEFE3F9A5C228; PSTM=1680768667; BAIDUID=6E8618ADC330286A422B9E7F7D5B9E54:FG=1; BAIDUID_BFESS=6E8618ADC330286A422B9E7F7D5B9E54:FG=1; BDUSS=URsUm1pRjU5NDVXVThPRkg0cm5LNERCOFp2NHd3UjFFbXBHRnNreUoxR1JHbFprRVFBQUFBJCQAAAAAAAAAAAEAAABIl1qZcXVpZXRyYWJiaXRhbmQAAAAAAAAAAAAAAAAAAAAAAAAAAAAAAAAAAAAAAAAAAAAAAAAAAAAAAAAAAAAAAAAAAJGNLmSRjS5ka; ZFY=2csmpPSpawU9u2i7GAT9ltDPfH41JRzrXi8Ukr1mkhk:C; Hm_lvt_d101ea4d2a5c67dab98251f0b5de24dc=1683341849,1683527825; BCLID=12113974424415830444; BDSFRCVID=e-4OJeC62r80bf3fSS9vrOgFmeKMMy6TH6_nHeHPgh9WAWrTqaLNEG0PfM8g0Ku-OBJCogKK5mOTH6KF_2uxOjjg8UtVJeC6EG0Ptf8g0M5; H_BDCLCKID_SF=JJuH_DP5f-OqDjrn5b5EKKCShUFsKCuJB2Q-5KL--DP2HRLRblb6eJKXXUJl24QiBmj8_fbdJf7_Ob5S0-Jseq-F3p5nb4orBeTxoUJDBCnJhhvGqfnIyxtebPRit4r9Qg-qahQ7tt5W8ncFbT7l5hKpbt-q0x-jLTnhVn0MBCK0HPonHjL5jjcB3J; BCLID_BFESS=12113974424415830444; BDSFRCVID_BFESS=e-4OJeC62r80bf3fSS9vrOgFmeKMMy6TH6_nHeHPgh9WAWrTqaLNEG0PfM8g0Ku-OBJCogKK5mOTH6KF_2uxOjjg8UtVJeC6EG0Ptf8g0M5; H_BDCLCKID_SF_BFESS=JJuH_DP5f-OqDjrn5b5EKKCShUFsKCuJB2Q-5KL--DP2HRLRblb6eJKXXUJl24QiBmj8_fbdJf7_Ob5S0-Jseq-F3p5nb4orBeTxoUJDBCnJhhvGqfnIyxtebPRit4r9Qg-qahQ7tt5W8ncFbT7l5hKpbt-q0x-jLTnhVn0MBCK0HPonHjL5jjcB3J; FPTOKEN=aZvEykJ8inJdiK8J+26TQ2sRBdGBKxH3MC/954ErMFhu8HC7s9ukuidLFykCy+hEK9CoGy7cSl6AAqS8Zaojvs6OCOc5hSdzpbJJq6mLUqcSRJQ3hZdAN7h9QF5eM/igYhO+4jJyBpK48anIA32b2q8n9Gy941154aL0aQzUC83zSeBWAiNl3eIvDMopoD5Xdku/KPo124O7lVFF6kRiTPDd07XGum8mACedo5OaVWESEiZJFCdIoAMQkVKZhLp4CUCSciRIGAheu0KFDga1eNFfw5YqKicAL16h6x1HqHJAWpkxawQ+ldHKB58/DoDoL+WP1itzNy2FMajrtRvWgiBRHMn2PmgIxcgbCTT37WyN6cGZRK/7HCcsRTu281tUa3K8YkT6UpUDQQHPk37hrw==|RXxAOFTNHH9FNJvD1IWAjp0Nn78jcMB9m9iZ6mFkNo4=|10|6e7d938d6db0338f219c19f21b32919d; SIGNIN_UC=70a2711cf1d3d9b1a82d2f87d633bd8a043369748338d1kGD7uw8OAwomMLq8s8JWIsEPNz151j4nrTu40YH7Xn98cpT4BG1TdSH7F4In+2qHxdlJZJpKh2q3qlZO93oq4CVlwtvKx8LNS4gjDhVLSJZ5djGXzommZn6rgAuWcsOs9eLweFFAbToVBI+mhFP1ki+Xh16eaIgZwkQvwq6ATUjMVMdvz6KAc++2mfuRqoq9E/YvTRZFa2wQpa4UiIwRhHIKFvgu73S9MbZYzILN4Brndl/ZUx8Cvhahhyv9FCtHYfqJ1Me392vBM0wGg0pe1+D9mNubgiXOFcpUHanc=28619630724356211238138017686683; __cas__rn__=433697483; __cas__st__212=509837eea2a54c8ccb6d39711cd5c2bc7923ec2384d576f3a6eadfd67014d821f8da69903e138f4275225e05; __cas__id__212=47790421; CPID_212=47790421; CPTK_212=1015076435; bdindexid=ng9fk4fiumf586222g88qauof6; H_PS_PSSID=38516_36543_38529_38470_38468_38594_38595_36807_38486_26350_38568_22160_38543; BA_HECTOR=218l002g2521a1840kal2gdk1i5mggd1n; ab_sr=1.0.1_M2RkNmUwMmMxZTE3MWY0ZmYwNzM0Njc3MmQ4MzZjZDgyNzE5MGY3ZWQ3YzRlODhlNTEzZDNkMDMyZWI2M2VlNjY4MWRiMmE4NmVjY2EwZTJhYmY2OGQzMTYxOTI2NDBhZTUwOWQ0YTQ0ZGY0OWE0YzlhMjkxZWY5ZmY2ZDMxOWMzNDA3ZTA3YTk0ZThkZDFjMDhkYmFiODY0OGM2MzI3Ng==; RT=\"z=1&dm=baidu.com&si=32438c12-18de-46ef-a8b1-29ac2eac21e1&ss=lhhadex8&sl=g&tt=cho&bcn=https://fclog.baidu.com/log/weirwood?type=perf\"; Hm_lpvt_d101ea4d2a5c67dab98251f0b5de24dc=1683703585; BDUSS_BFESS=URsUm1pRjU5NDVXVThPRkg0cm5LNERCOFp2NHd3UjFFbXBHRnNreUoxR1JHbFprRVFBQUFBJCQAAAAAAAAAAAEAAABIl1qZcXVpZXRyYWJiaXRhbmQAAAAAAAAAAAAAAAAAAAAAAAAAAAAAAAAAAAAAAAAAAAAAAAAAAAAAAAAAAAAAAAAAAJGNLmSRjS5ka'\n",
    "    }\n",
    "    response = requests.get(url, headers=headers, cookies=cookies)\n",
    "    return response.text\n",
    " \n",
    " \n",
    "def decrypt(t, e):\n",
    "    n = list(t)\n",
    "    i = list(e)\n",
    "    a = {}\n",
    "    result = []\n",
    "    ln = int(len(n) / 2)\n",
    "    start = n[ln:]\n",
    "    end = n[:ln]\n",
    "    for j, k in zip(start, end):\n",
    "        a.update({k: j})\n",
    "    for j in e:\n",
    "        result.append(a.get(j))\n",
    "    return ''.join(result)\n",
    " \n",
    " \n",
    "def get_ptbk(uniqid):\n",
    "    url = 'http://index.baidu.com/Interface/ptbk?uniqid={}'\n",
    "    resp = get_html(url.format(uniqid))\n",
    "    return json.loads(resp)['data']\n",
    " \n",
    " \n",
    "def get_data(keyword, start='2011-01-01', end='2023-05-31'):\n",
    "    url = \"https://index.baidu.com/api/SearchApi/index?area=0&word=[[%7B%22name%22:%22{}%22,%22wordType%22:1%7D]]&startDate={}&endDate={}\".format(keyword, start, end)\n",
    "    data = get_html(url)\n",
    "    data = json.loads(data)\n",
    "    uniqid = data['data']['uniqid']\n",
    "    data = data['data']['userIndexes'][0]['all']['data']\n",
    "    ptbk = get_ptbk(uniqid)\n",
    "    result = decrypt(ptbk, data)\n",
    "    result = result.split(',')\n",
    "    return result\n",
    " "
   ]
  },
  {
   "cell_type": "code",
   "execution_count": null,
   "metadata": {},
   "outputs": [],
   "source": [
    "###retrieve the search data \n",
    "###the Chinese translation of country name is used for convenience in the following codes.\n",
    "country_name=[\"加拿大\",'智利','墨西哥','台湾','香港','日本','韩国','澳门','马尔代夫','柬埔寨','印尼','新加坡','新西兰','美国','泰国','土耳其','澳大利亚','夏威夷','奥地利','捷克']\n",
    "for country in country_name:\n",
    "    df=pd.DataFrame()\n",
    "    df['date']=pd.date_range(start=\"2010-12-27\", freq=\"7D\", periods=649)\n",
    "    start_date = \"2011-01-01\"\n",
    "    end_date = \"2023-05-31\"\n",
    "    keywords=keywords_dict[country]\n",
    "    for keyword in keywords:\n",
    "        temp=get_data(keyword, start_date, end_date)\n",
    "        df[keyword]=temp\n",
    "    df.to_excel(work_path+'\\\\'+'baidu_index\\{}.xlsx'.format(country),encoding='utf-8')"
   ]
  }
 ],
 "metadata": {
  "kernelspec": {
   "display_name": "Python 3",
   "language": "python",
   "name": "python3"
  },
  "language_info": {
   "codemirror_mode": {
    "name": "ipython",
    "version": 3
   },
   "file_extension": ".py",
   "mimetype": "text/x-python",
   "name": "python",
   "nbconvert_exporter": "python",
   "pygments_lexer": "ipython3",
   "version": "3.10.11"
  },
  "orig_nbformat": 4,
  "vscode": {
   "interpreter": {
    "hash": "45037c9fa964e33746a67959e611b1255904e81b18931a74a47f598c93f55abd"
   }
  }
 },
 "nbformat": 4,
 "nbformat_minor": 2
}
